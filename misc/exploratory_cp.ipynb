{
 "cells": [
  {
   "cell_type": "markdown",
   "metadata": {},
   "source": [
    "# Exploratory Time Series Smoothing And Changepoints\n",
    "\n",
    "Here are some libraries I explored when smoothing the output time series (after inference) to either make changepoint detection easier or to remove noise."
   ]
  },
  {
   "cell_type": "code",
   "execution_count": 1,
   "metadata": {},
   "outputs": [],
   "source": [
    "import matplotlib.pyplot as plt\n",
    "import pylops\n",
    "import ruptures as rpt\n",
    "from math import log\n",
    "from ruptures.base import BaseCost\n",
    "import numpy as np"
   ]
  },
  {
   "cell_type": "markdown",
   "metadata": {},
   "source": [
    "# PyLops L2"
   ]
  },
  {
   "cell_type": "code",
   "execution_count": null,
   "metadata": {},
   "outputs": [],
   "source": [
    "# this one using L2 regularisation \n",
    "y = [] # put the series in here \n",
    "\n",
    "timesteps = 500\n",
    "Iop = pylops.Identity(timesteps)\n",
    "D2op = pylops.SecondDerivative(timesteps, edge=True)\n",
    "lamda = 1e2\n",
    "\n",
    "xinv = pylops.optimization.leastsquares.regularized_inversion(\n",
    "    Iop, y, [D2op], epsRs=[np.sqrt(lamda / 2)], **dict(iter_lim=30)\n",
    ")[0]\n",
    "\n",
    "plt.figure(figsize=(10, 5))\n",
    "plt.plot(x, \"k\", lw=3, label=\"x\")\n",
    "plt.plot(y, \".k\", label=\"y=x+n\")\n",
    "plt.plot(xinv, \"r\", lw=5, label=\"xinv\")\n",
    "plt.legend()\n",
    "plt.title(\"L2 inversion\")\n",
    "plt.tight_layout()"
   ]
  },
  {
   "cell_type": "markdown",
   "metadata": {},
   "source": [
    "# PyLops Total Variation Regularisation"
   ]
  },
  {
   "cell_type": "code",
   "execution_count": null,
   "metadata": {},
   "outputs": [],
   "source": [
    "Dop = pylops.FirstDerivative(nx, edge=True, kind=\"backward\")\n",
    "mu = 0.01\n",
    "lamda = 0.3\n",
    "niter_out = 50\n",
    "niter_in = 3\n",
    "\n",
    "xinv = pylops.optimization.sparsity.splitbregman(\n",
    "    Iop,\n",
    "    y,\n",
    "    [Dop],\n",
    "    niter_outer=niter_out,\n",
    "    niter_inner=niter_in,\n",
    "    mu=mu,\n",
    "    epsRL1s=[lamda],\n",
    "    tol=1e-4,\n",
    "    tau=1.0,\n",
    "    **dict(iter_lim=30, damp=1e-10)\n",
    ")[0]\n",
    "\n",
    "plt.figure(figsize=(10, 5))\n",
    "plt.plot(x, \"k\", lw=3, label=\"x\")\n",
    "plt.plot(y, \".k\", label=\"y=x+n\")\n",
    "plt.plot(xinv, \"r\", lw=5, label=\"xinv\")\n",
    "plt.legend()\n",
    "plt.title(\"TV inversion\")\n",
    "plt.tight_layout()"
   ]
  },
  {
   "cell_type": "markdown",
   "metadata": {},
   "source": [
    "# Ruptures"
   ]
  },
  {
   "cell_type": "code",
   "execution_count": null,
   "metadata": {},
   "outputs": [],
   "source": [
    "algo = rpt.Pelt(model=\"rbf\", min_size=3).fit() # make sure signal is a numpy array\n",
    "result = algo.predict(pen=10)\n",
    "\n",
    "class MyCost(BaseCost):\n",
    "\n",
    "    \"\"\"Custom cost for exponential signals.\"\"\"\n",
    "\n",
    "    # The 2 following attributes must be specified for compatibility.\n",
    "    model = \"\"\n",
    "    min_size = 2\n",
    "\n",
    "    def fit(self, signal):\n",
    "        \"\"\"Set the internal parameter.\"\"\"\n",
    "        self.signal = signal\n",
    "        return self\n",
    "\n",
    "    def error(self, start, end):\n",
    "        \"\"\"Return the approximation cost on the segment [start:end].\n",
    "\n",
    "        Args:\n",
    "            start (int): start of the segment\n",
    "            end (int): end of the segment\n",
    "\n",
    "        Returns:\n",
    "            float: segment cost\n",
    "        \"\"\"\n",
    "        sub = self.signal[start:end]\n",
    "        return (end - start) * log(sub.mean())\n",
    "    \n",
    "    \n",
    "# creation of data\n",
    "a = np.random.exponential(scale=1, size=100)\n",
    "b = np.random.exponential(scale=2, size=200)\n",
    "signal, bkps = np.r_[a, b, a], [100, 300, 400]\n",
    "# cost\n",
    "algo = rpt.Pelt(custom_cost=MyCost()).fit(signal)\n",
    "my_bkps = algo.predict(pen=10)\n",
    "# display\n",
    "rpt.display(signal, bkps, my_bkps)\n",
    "plt.show()"
   ]
  },
  {
   "cell_type": "code",
   "execution_count": null,
   "metadata": {},
   "outputs": [],
   "source": [
    "from ruptures.costs import CostLinear\n",
    "import numpy as np\n",
    "\n",
    "class CustomCost:\n",
    "    def __init__(self):\n",
    "        self.model = \"l2\"\n",
    "\n",
    "    def fit(self, signal):\n",
    "        self.signal = signal\n",
    "        return self\n",
    "\n",
    "    def error(self, start, end):\n",
    "        segment = self.signal[start:end]\n",
    "        mean_segment = np.mean(segment)\n",
    "        return np.sum((segment - mean_segment) ** 2)\n",
    "\n",
    "    @property\n",
    "    def model(self):\n",
    "        return self._model\n",
    "\n",
    "    @model.setter\n",
    "    def model(self, value):\n",
    "        self._model = value\n",
    "\n",
    "# Usage with PELT algorithm\n",
    "signal, bkps = rpt.pw_constant(n_samples, n_dims, n_bkps, noise_std=1.)\n",
    "algo = rpt.Pelt(custom_cost=CustomCost())\n",
    "penalty = 20\n",
    "result = algo.fit(signal).predict(pen=penalty)\n",
    "rpt.display(signal, bkps, result)\n"
   ]
  }
 ],
 "metadata": {
  "kernelspec": {
   "display_name": "test",
   "language": "python",
   "name": "python3"
  },
  "language_info": {
   "codemirror_mode": {
    "name": "ipython",
    "version": 3
   },
   "file_extension": ".py",
   "mimetype": "text/x-python",
   "name": "python",
   "nbconvert_exporter": "python",
   "pygments_lexer": "ipython3",
   "version": "3.11.2"
  }
 },
 "nbformat": 4,
 "nbformat_minor": 2
}
